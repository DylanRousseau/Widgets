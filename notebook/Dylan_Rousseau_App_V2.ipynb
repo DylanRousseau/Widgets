{
 "cells": [
  {
   "cell_type": "markdown",
   "metadata": {},
   "source": [
    "# Scrapping\n",
    "\n",
    "Responsable : *Dylan Rousseau*\n",
    "\n",
    "### **Objet :**  \n",
    "....................................................\n",
    "<br/>    \n",
    "\n",
    "---  \n",
    "Historique des modifications : \n",
    "\n",
    "21/03/2022 : *Dylan ROUSSEAU* : *Création du script*<br/> \n",
    "\n",
    "---"
   ]
  },
  {
   "cell_type": "markdown",
   "metadata": {},
   "source": [
    "# Imports bibliothèques"
   ]
  },
  {
   "cell_type": "code",
   "execution_count": 1,
   "metadata": {},
   "outputs": [
    {
     "name": "stderr",
     "output_type": "stream",
     "text": [
      "C:\\Users\\droussea\\Anaconda3\\lib\\site-packages\\numpy\\_distributor_init.py:32: UserWarning: loaded more than 1 DLL from .libs:\n",
      "C:\\Users\\droussea\\Anaconda3\\lib\\site-packages\\numpy\\.libs\\libopenblas.NOIJJG62EMASZI6NYURL6JBKM4EVBGM7.gfortran-win_amd64.dll\n",
      "C:\\Users\\droussea\\Anaconda3\\lib\\site-packages\\numpy\\.libs\\libopenblas.WCDJNK7YVMPZQ2ME2ZZHJJRJ3JIKNDB7.gfortran-win_amd64.dll\n",
      "  stacklevel=1)\n"
     ]
    }
   ],
   "source": [
    "import math\n",
    "import numpy\n",
    "import pandas as pd\n",
    "import ipywidgets as widgets\n",
    "import IPython.display as ipd\n",
    "\n",
    "from bs4 import BeautifulSoup\n",
    "from pylab import specgram, show\n",
    "from IPython import display as audioD\n",
    "from requests_html import HTMLSession\n",
    "from moviepy.editor import AudioFileClip\n",
    "from IPython.display import display, clear_output, HTML, Markdown "
   ]
  },
  {
   "cell_type": "markdown",
   "metadata": {},
   "source": [
    "# Variables"
   ]
  },
  {
   "cell_type": "code",
   "execution_count": 2,
   "metadata": {},
   "outputs": [],
   "source": [
    "session   = HTMLSession()\n",
    "dataFrame = widgets.Output()\n",
    "audio     = widgets.Output()"
   ]
  },
  {
   "cell_type": "markdown",
   "metadata": {},
   "source": [
    "# Imports des datasources"
   ]
  },
  {
   "cell_type": "code",
   "execution_count": 3,
   "metadata": {},
   "outputs": [],
   "source": [
    "dfDicoBuch = pd.read_csv('../data/dfDicoBuch.csv')\n",
    "dfDicoBuch = dfDicoBuch[[\"motVedette\",\"nbSyll\",\"pron\",\"pronSampa\",\"ipa\"]]\n",
    "dfDicoBuch = dfDicoBuch.replace(numpy.nan, '', regex=True)"
   ]
  },
  {
   "cell_type": "markdown",
   "metadata": {},
   "source": [
    "# Widgets"
   ]
  },
  {
   "cell_type": "code",
   "execution_count": 4,
   "metadata": {},
   "outputs": [],
   "source": [
    "filtreHWD = widgets.Text(value=\"\",description='filtre hwd',layout={'width': '200px'} )\n",
    "filtreIPA = widgets.Text(value=\"\",description='filtre ipa',layout={'width': '200px'} )\n",
    "occMax    = widgets.IntSlider(min=0,max=10,step=1,description='Occ.Max:',value = 5)\n",
    "bouton    = widgets.Button(description='Démarrer', icon = \"check\")"
   ]
  },
  {
   "cell_type": "code",
   "execution_count": null,
   "metadata": {},
   "outputs": [],
   "source": []
  },
  {
   "cell_type": "code",
   "execution_count": 12,
   "metadata": {},
   "outputs": [],
   "source": [
    "deded = dfDicoBuch.loc[dfDicoBuch['motVedette'] == \"love\"]"
   ]
  },
  {
   "cell_type": "code",
   "execution_count": 16,
   "metadata": {},
   "outputs": [
    {
     "name": "stdout",
     "output_type": "stream",
     "text": [
      "<span class=\"DEF\"> to have a <a class=\"defRef\" href=\"/dictionary/strong\" title=\"strong\">strong</a> feeling of <span class=\"NonDV\"><span class=\"REFHWD\"><a class=\"defRef\" href=\"/dictionary/affection\" title=\"affection\">affection</a></span></span> for someone, <a class=\"defRef\" href=\"/dictionary/combine\" title=\"combine\">combined</a> with <a class=\"defRef\" href=\"/dictionary/sexual\" title=\"sexual\">sexual</a> <a class=\"defRef\" href=\"/dictionary/attraction\" title=\"attraction\">attraction</a></span>\n",
      "<span class=\"DEF\"> to <a class=\"defRef\" href=\"/dictionary/care\" title=\"care\">care</a> very much about someone, especially a <a class=\"defRef\" href=\"/dictionary/member\" title=\"member\">member</a> of your family or a close <a class=\"defRef\" href=\"/dictionary/friend\" title=\"friend\">friend</a></span>\n",
      "<span class=\"DEF\"> to like something very much or <a class=\"defRef\" href=\"/dictionary/enjoy\" title=\"enjoy\">enjoy</a> doing something very much</span>\n",
      "<span class=\"DEF\"> to have a strong feeling of <a class=\"defRef\" href=\"/dictionary/loyalty\" title=\"loyalty\">loyalty</a> to your country, an <a class=\"defRef\" href=\"/dictionary/institution\" title=\"institution\">institution</a> etc</span>\n",
      "<span class=\"DEF\"> to like someone very much and care a lot about them – used especially about people in your family or someone who you are sexually <a class=\"defRef\" href=\"/dictionary/attract\" title=\"attract\">attracted</a> to</span>\n",
      "<span class=\"DEF\"> to love and <a class=\"defRef\" href=\"/dictionary/admire\" title=\"admire\">admire</a> someone very much</span>\n",
      "<span class=\"DEF\"> to feel that you love someone and want to have a <a class=\"defRef\" href=\"/dictionary/romantic\" title=\"romantic\">romantic</a> <a class=\"defRef\" href=\"/dictionary/relationship\" title=\"relationship\">relationship</a> with them</span>\n",
      "<span class=\"DEF\"> to love someone a lot and keep thinking about them, in a way that seems <a class=\"defRef\" href=\"/dictionary/silly\" title=\"silly\">silly</a> because you do not know them very well</span>\n",
      "<span class=\"DEF\"> to love and be sexually attracted to someone you are not having a relationship with, usually someone older</span>\n",
      "<span class=\"DEF\"> to love someone very much – used for <a class=\"defRef\" href=\"/dictionary/emphasis\" title=\"emphasis\">emphasis</a></span>\n",
      "<span class=\"DEF\">  to love someone very much and give them a lot of <a class=\"defRef\" href=\"/dictionary/attention\" title=\"attention\">attention</a></span>\n",
      "<span class=\"DEF\"> to love someone very much, especially a much younger family member, and <a class=\"defRef\" href=\"/dictionary/behave\" title=\"behave\">behave</a> very <a class=\"defRef\" href=\"/dictionary/kindly#kindly__5\" title=\"kindly\">kindly</a> to them</span>\n",
      "<span class=\"DEF\"> a strong feeling of caring about someone, especially a member of your family or a close friend</span>\n",
      "<span class=\"DEF\"> a strong feeling of <a class=\"defRef\" href=\"/dictionary/liking\" title=\"liking\">liking</a> someone a lot combined with sexual attraction</span>\n",
      "<span class=\"DEF\"> someone that you feel a strong romantic and sexual attraction to</span>\n",
      "<span class=\"DEF\"> a strong feeling of <a class=\"defRef\" href=\"/dictionary/pleasure\" title=\"pleasure\">pleasure</a> and <a class=\"defRef\" href=\"/dictionary/enjoyment\" title=\"enjoyment\">enjoyment</a> that something gives you</span>\n",
      "<span class=\"DEF\"> something that gives you a lot of pleasure and enjoyment</span>\n",
      "<span class=\"DEF\"> an <a class=\"defRef\" href=\"/dictionary/expression\" title=\"expression\">expression</a> meaning ‘no points’, used in the game of tennis</span>\n",
      "<span class=\"DEF\"> a feeling of liking someone very much and caring a lot about them – used about people in your family, or someone you feel sexually attracted to</span>\n",
      "<span class=\"DEF\"> a <a class=\"defRef\" href=\"/dictionary/gentle\" title=\"gentle\">gentle</a> feeling of love which makes you want to be kind to someone and show them that you love them – used especially about friends and members of your family</span>\n",
      "<span class=\"DEF\"> very strong love for someone in which you want to give them a lot of attention and look after them – used especially about strong <a class=\"defRef\" href=\"/dictionary/feeling\" title=\"feeling\">feelings</a> of love for your <a class=\"defRef\" href=\"/dictionary/wife\" title=\"wife\">wife</a>, <a class=\"defRef\" href=\"/dictionary/husband\" title=\"husband\">husband</a>, children etc</span>\n",
      "<span class=\"DEF\"> a strong and <a class=\"defRef\" href=\"/dictionary/excite\" title=\"excite\">exciting</a> feeling of love for someone you are extremely sexually attracted to</span>\n",
      "<span class=\"DEF\"> a strong feeling of love for someone, in which you cannot stop thinking about them, and which seems silly because you do not know them very well</span>\n",
      "<span class=\"DEF\"> the feeling of <a class=\"defRef\" href=\"/dictionary/loving\" title=\"loving\">loving</a> someone and the <a class=\"defRef\" href=\"/dictionary/nice\" title=\"nice\">nice</a> things you do to show this – used about someone you are sexually attracted to</span>\n",
      "<span class=\"DEF\"> a very strong feeling of love and sexual attraction for someone such as a <a class=\"defRef\" href=\"/dictionary/teacher\" title=\"teacher\">teacher</a> or a <a class=\"defRef\" href=\"/dictionary/famous\" title=\"famous\">famous</a> person, especially when there is no <a class=\"defRef\" href=\"/dictionary/chance\" title=\"chance\">chance</a> of you having a relationship with that person because you are much younger than them </span>\n"
     ]
    },
    {
     "ename": "ValueError",
     "evalue": "Length of values (0) does not match length of index (1)",
     "output_type": "error",
     "traceback": [
      "\u001b[1;31m---------------------------------------------------------------------------\u001b[0m",
      "\u001b[1;31mValueError\u001b[0m                                Traceback (most recent call last)",
      "\u001b[1;32m<ipython-input-16-4e2bc1583733>\u001b[0m in \u001b[0;36m<module>\u001b[1;34m\u001b[0m\n\u001b[0;32m     28\u001b[0m     \u001b[1;32melse\u001b[0m\u001b[1;33m:\u001b[0m\u001b[1;33m\u001b[0m\u001b[1;33m\u001b[0m\u001b[0m\n\u001b[0;32m     29\u001b[0m         \u001b[0mprint\u001b[0m\u001b[1;33m(\u001b[0m\u001b[1;34m'NUL'\u001b[0m\u001b[1;33m)\u001b[0m\u001b[1;33m\u001b[0m\u001b[1;33m\u001b[0m\u001b[0m\n\u001b[1;32m---> 30\u001b[1;33m \u001b[0mdeded\u001b[0m\u001b[1;33m[\u001b[0m\u001b[1;34m\"linkUK\"\u001b[0m\u001b[1;33m]\u001b[0m \u001b[1;33m=\u001b[0m \u001b[0mpd\u001b[0m\u001b[1;33m.\u001b[0m\u001b[0mSeries\u001b[0m\u001b[1;33m(\u001b[0m\u001b[0mlistLinknUK\u001b[0m\u001b[1;33m)\u001b[0m\u001b[1;33m.\u001b[0m\u001b[0mvalues\u001b[0m\u001b[1;33m\u001b[0m\u001b[1;33m\u001b[0m\u001b[0m\n\u001b[0m\u001b[0;32m     31\u001b[0m \u001b[0mdeded\u001b[0m\u001b[1;33m[\u001b[0m\u001b[1;34m\"linkUS\"\u001b[0m\u001b[1;33m]\u001b[0m \u001b[1;33m=\u001b[0m \u001b[0mpd\u001b[0m\u001b[1;33m.\u001b[0m\u001b[0mSeries\u001b[0m\u001b[1;33m(\u001b[0m\u001b[0mlistLinknUS\u001b[0m\u001b[1;33m)\u001b[0m\u001b[1;33m.\u001b[0m\u001b[0mvalues\u001b[0m\u001b[1;33m\u001b[0m\u001b[1;33m\u001b[0m\u001b[0m\n",
      "\u001b[1;32m~\\Anaconda3\\lib\\site-packages\\pandas\\core\\frame.py\u001b[0m in \u001b[0;36m__setitem__\u001b[1;34m(self, key, value)\u001b[0m\n\u001b[0;32m   3161\u001b[0m         \u001b[1;32melse\u001b[0m\u001b[1;33m:\u001b[0m\u001b[1;33m\u001b[0m\u001b[1;33m\u001b[0m\u001b[0m\n\u001b[0;32m   3162\u001b[0m             \u001b[1;31m# set column\u001b[0m\u001b[1;33m\u001b[0m\u001b[1;33m\u001b[0m\u001b[1;33m\u001b[0m\u001b[0m\n\u001b[1;32m-> 3163\u001b[1;33m             \u001b[0mself\u001b[0m\u001b[1;33m.\u001b[0m\u001b[0m_set_item\u001b[0m\u001b[1;33m(\u001b[0m\u001b[0mkey\u001b[0m\u001b[1;33m,\u001b[0m \u001b[0mvalue\u001b[0m\u001b[1;33m)\u001b[0m\u001b[1;33m\u001b[0m\u001b[1;33m\u001b[0m\u001b[0m\n\u001b[0m\u001b[0;32m   3164\u001b[0m \u001b[1;33m\u001b[0m\u001b[0m\n\u001b[0;32m   3165\u001b[0m     \u001b[1;32mdef\u001b[0m \u001b[0m_setitem_slice\u001b[0m\u001b[1;33m(\u001b[0m\u001b[0mself\u001b[0m\u001b[1;33m,\u001b[0m \u001b[0mkey\u001b[0m\u001b[1;33m:\u001b[0m \u001b[0mslice\u001b[0m\u001b[1;33m,\u001b[0m \u001b[0mvalue\u001b[0m\u001b[1;33m)\u001b[0m\u001b[1;33m:\u001b[0m\u001b[1;33m\u001b[0m\u001b[1;33m\u001b[0m\u001b[0m\n",
      "\u001b[1;32m~\\Anaconda3\\lib\\site-packages\\pandas\\core\\frame.py\u001b[0m in \u001b[0;36m_set_item\u001b[1;34m(self, key, value)\u001b[0m\n\u001b[0;32m   3237\u001b[0m         \"\"\"\n\u001b[0;32m   3238\u001b[0m         \u001b[0mself\u001b[0m\u001b[1;33m.\u001b[0m\u001b[0m_ensure_valid_index\u001b[0m\u001b[1;33m(\u001b[0m\u001b[0mvalue\u001b[0m\u001b[1;33m)\u001b[0m\u001b[1;33m\u001b[0m\u001b[1;33m\u001b[0m\u001b[0m\n\u001b[1;32m-> 3239\u001b[1;33m         \u001b[0mvalue\u001b[0m \u001b[1;33m=\u001b[0m \u001b[0mself\u001b[0m\u001b[1;33m.\u001b[0m\u001b[0m_sanitize_column\u001b[0m\u001b[1;33m(\u001b[0m\u001b[0mkey\u001b[0m\u001b[1;33m,\u001b[0m \u001b[0mvalue\u001b[0m\u001b[1;33m)\u001b[0m\u001b[1;33m\u001b[0m\u001b[1;33m\u001b[0m\u001b[0m\n\u001b[0m\u001b[0;32m   3240\u001b[0m         \u001b[0mNDFrame\u001b[0m\u001b[1;33m.\u001b[0m\u001b[0m_set_item\u001b[0m\u001b[1;33m(\u001b[0m\u001b[0mself\u001b[0m\u001b[1;33m,\u001b[0m \u001b[0mkey\u001b[0m\u001b[1;33m,\u001b[0m \u001b[0mvalue\u001b[0m\u001b[1;33m)\u001b[0m\u001b[1;33m\u001b[0m\u001b[1;33m\u001b[0m\u001b[0m\n\u001b[0;32m   3241\u001b[0m \u001b[1;33m\u001b[0m\u001b[0m\n",
      "\u001b[1;32m~\\Anaconda3\\lib\\site-packages\\pandas\\core\\frame.py\u001b[0m in \u001b[0;36m_sanitize_column\u001b[1;34m(self, key, value, broadcast)\u001b[0m\n\u001b[0;32m   3894\u001b[0m \u001b[1;33m\u001b[0m\u001b[0m\n\u001b[0;32m   3895\u001b[0m             \u001b[1;31m# turn me into an ndarray\u001b[0m\u001b[1;33m\u001b[0m\u001b[1;33m\u001b[0m\u001b[1;33m\u001b[0m\u001b[0m\n\u001b[1;32m-> 3896\u001b[1;33m             \u001b[0mvalue\u001b[0m \u001b[1;33m=\u001b[0m \u001b[0msanitize_index\u001b[0m\u001b[1;33m(\u001b[0m\u001b[0mvalue\u001b[0m\u001b[1;33m,\u001b[0m \u001b[0mself\u001b[0m\u001b[1;33m.\u001b[0m\u001b[0mindex\u001b[0m\u001b[1;33m)\u001b[0m\u001b[1;33m\u001b[0m\u001b[1;33m\u001b[0m\u001b[0m\n\u001b[0m\u001b[0;32m   3897\u001b[0m             \u001b[1;32mif\u001b[0m \u001b[1;32mnot\u001b[0m \u001b[0misinstance\u001b[0m\u001b[1;33m(\u001b[0m\u001b[0mvalue\u001b[0m\u001b[1;33m,\u001b[0m \u001b[1;33m(\u001b[0m\u001b[0mnp\u001b[0m\u001b[1;33m.\u001b[0m\u001b[0mndarray\u001b[0m\u001b[1;33m,\u001b[0m \u001b[0mIndex\u001b[0m\u001b[1;33m)\u001b[0m\u001b[1;33m)\u001b[0m\u001b[1;33m:\u001b[0m\u001b[1;33m\u001b[0m\u001b[1;33m\u001b[0m\u001b[0m\n\u001b[0;32m   3898\u001b[0m                 \u001b[1;32mif\u001b[0m \u001b[0misinstance\u001b[0m\u001b[1;33m(\u001b[0m\u001b[0mvalue\u001b[0m\u001b[1;33m,\u001b[0m \u001b[0mlist\u001b[0m\u001b[1;33m)\u001b[0m \u001b[1;32mand\u001b[0m \u001b[0mlen\u001b[0m\u001b[1;33m(\u001b[0m\u001b[0mvalue\u001b[0m\u001b[1;33m)\u001b[0m \u001b[1;33m>\u001b[0m \u001b[1;36m0\u001b[0m\u001b[1;33m:\u001b[0m\u001b[1;33m\u001b[0m\u001b[1;33m\u001b[0m\u001b[0m\n",
      "\u001b[1;32m~\\Anaconda3\\lib\\site-packages\\pandas\\core\\internals\\construction.py\u001b[0m in \u001b[0;36msanitize_index\u001b[1;34m(data, index)\u001b[0m\n\u001b[0;32m    750\u001b[0m     \u001b[1;32mif\u001b[0m \u001b[0mlen\u001b[0m\u001b[1;33m(\u001b[0m\u001b[0mdata\u001b[0m\u001b[1;33m)\u001b[0m \u001b[1;33m!=\u001b[0m \u001b[0mlen\u001b[0m\u001b[1;33m(\u001b[0m\u001b[0mindex\u001b[0m\u001b[1;33m)\u001b[0m\u001b[1;33m:\u001b[0m\u001b[1;33m\u001b[0m\u001b[1;33m\u001b[0m\u001b[0m\n\u001b[0;32m    751\u001b[0m         raise ValueError(\n\u001b[1;32m--> 752\u001b[1;33m             \u001b[1;34m\"Length of values \"\u001b[0m\u001b[1;33m\u001b[0m\u001b[1;33m\u001b[0m\u001b[0m\n\u001b[0m\u001b[0;32m    753\u001b[0m             \u001b[1;34mf\"({len(data)}) \"\u001b[0m\u001b[1;33m\u001b[0m\u001b[1;33m\u001b[0m\u001b[0m\n\u001b[0;32m    754\u001b[0m             \u001b[1;34m\"does not match length of index \"\u001b[0m\u001b[1;33m\u001b[0m\u001b[1;33m\u001b[0m\u001b[0m\n",
      "\u001b[1;31mValueError\u001b[0m: Length of values (0) does not match length of index (1)"
     ]
    }
   ],
   "source": [
    "listLinknUK = []\n",
    "listLinknUS = []\n",
    "    \n",
    "for word in deded[\"motVedette\"] :\n",
    "\n",
    "    # On créé le lien URL\n",
    "    urlTarget = \"https://www.ldoceonline.com/dictionary/\" + word\n",
    "    response  = session.get(urlTarget)\n",
    "    if response.status_code == 200:\n",
    "        html_doc  = response.content\n",
    "        structure = BeautifulSoup(response.text,'html.parser')\n",
    "        checkBody = structure.find('body')\n",
    "        checkDico = checkBody.findAll('div',{\"class\":\"dictionary\"})\n",
    "        \n",
    "        for x in checkDico:\n",
    "            mpsUK = x.findAll('span',{\"class\":\"DEF\"})\n",
    "        for y in mpsUK:\n",
    "            print(y)\n",
    "        #checkLinkUK = linkUK\n",
    "        #listLinknUK.append(checkLinkUK)\n",
    "        \n",
    "        #for x in checkDico:\n",
    "            #mpsUS = x.findAll('span',{\"class\":\"DEF\"})\n",
    "        #for y in mpsUS:\n",
    "            #linkUS = y['data-src-mp3']\n",
    "        #checkLinkUS = linkUS\n",
    "        #listLinknUS.append(checkLinkUS)\n",
    "    else:\n",
    "        print('NUL')\n",
    "deded[\"linkUK\"] = pd.Series(listLinknUK).values\n",
    "deded[\"linkUS\"] = pd.Series(listLinknUS).values"
   ]
  },
  {
   "cell_type": "code",
   "execution_count": null,
   "metadata": {},
   "outputs": [],
   "source": [
    "deded"
   ]
  },
  {
   "cell_type": "code",
   "execution_count": null,
   "metadata": {},
   "outputs": [],
   "source": []
  },
  {
   "cell_type": "markdown",
   "metadata": {},
   "source": [
    "# Fonctions génériques"
   ]
  },
  {
   "cell_type": "code",
   "execution_count": 5,
   "metadata": {},
   "outputs": [],
   "source": [
    "def search_ldoceonline_mp3(dfEtudie):\n",
    "    \n",
    "    listLinknUK = []\n",
    "    listLinknUS = []\n",
    "    \n",
    "    for word in dfEtudie[\"motVedette\"] :\n",
    "\n",
    "        # On créé le lien URL\n",
    "        urlTarget = \"https://www.ldoceonline.com/dictionary/\" + word\n",
    "        response  = session.get(urlTarget)\n",
    "        if response.status_code == 200:\n",
    "            html_doc  = response.content\n",
    "            structure = BeautifulSoup(response.text,'html.parser')\n",
    "            checkBody = structure.find('body')\n",
    "            checkDico = checkBody.findAll('div',{\"class\":\"dictionary\"})\n",
    "            for x in checkDico:\n",
    "                mpsUK = x.findAll('span',{\"class\":\"speaker brefile fas fa-volume-up hideOnAmp\"})\n",
    "            for y in mpsUK:\n",
    "                linkUK = y['data-src-mp3']\n",
    "            checkLinkUK = linkUK.replace(linkUK[-15:],\"\")\n",
    "            listLinknUK.append(checkLinkUK)\n",
    "\n",
    "            for x in checkDico:\n",
    "                mpsUS = x.findAll('span',{\"class\":\"speaker amefile fas fa-volume-up hideOnAmp\"})\n",
    "            for y in mpsUS:\n",
    "                linkUS = y['data-src-mp3']\n",
    "            checkLinkUS = linkUS.replace(linkUS[-15:],\"\")\n",
    "            listLinknUS.append(checkLinkUS)\n",
    "        else:\n",
    "            print('NUL')\n",
    "    dfEtudie[\"linkUK\"] = pd.Series(listLinknUK).values\n",
    "    dfEtudie[\"linkUS\"] = pd.Series(listLinknUS).values\n",
    "        \n",
    "        \n",
    "    return dfEtudie"
   ]
  },
  {
   "cell_type": "code",
   "execution_count": 6,
   "metadata": {},
   "outputs": [],
   "source": [
    "def creaAudio(dfEtudie):\n",
    "    clear_output()\n",
    "    listeWid = widgets.Output()\n",
    "    lU       = widgets.Output()\n",
    "\n",
    "    for numLigne in range(len(dfEtudie)):\n",
    "\n",
    "        labelUK = widgets.Label(\"Brit\")\n",
    "        itemsUK = audioD.Audio(url = dfEtudie[\"linkUK\"][numLigne])\n",
    "        \n",
    "        spectroUK = dfEtudie[\"linkUK\"][numLigne]\n",
    "        \n",
    "        labelUS = widgets.Label(\"Amer\")\n",
    "        itemsUS = audioD.Audio(url = dfEtudie[\"linkUS\"][numLigne])\n",
    "        \n",
    "        spectroUS = dfEtudie[\"linkUS\"][numLigne]\n",
    "\n",
    "        audioUK = widgets.Output()\n",
    "        audioUK.append_display_data(itemsUK)\n",
    "        \n",
    "        audioUS = widgets.Output()\n",
    "        audioUS.append_display_data(itemsUS)\n",
    "        \n",
    "        lU = widgets.HBox([labelUK,audioUK,labelUS,audioUS])\n",
    "\n",
    "        # Les mots\n",
    "        labelMot  = widgets.Label(dfEtudie[\"motVedette\"][numLigne])\n",
    "        labelPron = widgets.Label(str(dfEtudie[\"pron\"][numLigne]))\n",
    "        label     = widgets.HBox([labelMot, labelPron])\n",
    "        \n",
    "        listeWid.append_display_data(widgets.VBox([label,lU]))\n",
    "        \n",
    "        spectro(spectroUK,spectroUS)\n",
    "\n",
    "    return listeWid"
   ]
  },
  {
   "cell_type": "code",
   "execution_count": 7,
   "metadata": {},
   "outputs": [],
   "source": [
    "def spectro(linkUK,linkUS):\n",
    "    \n",
    "    audioLinkUK = AudioFileClip(linkUK)\n",
    "    sound_arrayUK = audioLinkUK.to_soundarray()\n",
    "    resultSpecto = specgram(sound_arrayUK[:,0])\n",
    "    show()\n",
    "    audioLinkUK = AudioFileClip(linkUS)\n",
    "    sound_arrayUK = audioLinkUK.to_soundarray()\n",
    "    resultSpecto = specgram(sound_arrayUK[:,0])\n",
    "    show()"
   ]
  },
  {
   "cell_type": "code",
   "execution_count": 8,
   "metadata": {},
   "outputs": [],
   "source": [
    "def on_button_clicked(_):\n",
    "    nbLigne = occMax.value\n",
    "    HWD = filtreHWD.value \n",
    "    IPA = filtreIPA.value\n",
    "    dfEtudie = \"\"\n",
    "\n",
    "    with dataFrame:\n",
    "        clear_output()\n",
    "        # Filtre en fontion des variables précédentes \n",
    "        if (HWD != \"\"):\n",
    "            dfEtudie = dfDicoBuch[(dfDicoBuch.motVedette.str.match(HWD))]\n",
    "            if(IPA != \"\"):\n",
    "                dfEtudie = dfEtudie[(dfEtudie.pron.str.match(IPA))]\n",
    "        elif (IPA != \"\"):\n",
    "            dfEtudie = dfDicoBuch[(dfDicoBuch.pron.str.match(IPA))]\n",
    "\n",
    "        if(len(dfEtudie) > nbLigne):\n",
    "            dfEtudie = dfEtudie.sample(n=nbLigne).copy()\n",
    "        dfEtudie = dfEtudie.reset_index()    \n",
    "        # On affiche\n",
    "        display(dfEtudie)\n",
    "        \n",
    "    with audio :\n",
    "        #clear_output()\n",
    "        #dfEtudie = search_ldoceonline_mp3(dfEtudie)  \n",
    "        #listeAudio = creaAudio(dfEtudie) \n",
    "        #display(listeAudio)\n",
    "        \n",
    "        clear_output()\n",
    "        dfEtudie = search_ldoceonline_mp3(dfEtudie)  \n",
    "        listeAudio = creaAudio(dfEtudie) \n",
    "        display(listeAudio)\n",
    "        \n",
    "        \n",
    "            \n",
    "bouton.on_click(on_button_clicked)"
   ]
  },
  {
   "cell_type": "markdown",
   "metadata": {},
   "source": [
    "# Start layout "
   ]
  },
  {
   "cell_type": "code",
   "execution_count": 9,
   "metadata": {},
   "outputs": [],
   "source": [
    "ligne1 = widgets.HBox([filtreHWD, filtreIPA, occMax, bouton])\n",
    "ligne2 = widgets.HBox([dataFrame])\n",
    "ligne3 = widgets.HBox([audio])\n",
    "\n",
    "result = widgets.VBox([ligne1, ligne2, ligne3])"
   ]
  },
  {
   "cell_type": "markdown",
   "metadata": {},
   "source": [
    "# Lancement de l'appli"
   ]
  },
  {
   "cell_type": "code",
   "execution_count": 10,
   "metadata": {
    "scrolled": true
   },
   "outputs": [
    {
     "data": {
      "application/vnd.jupyter.widget-view+json": {
       "model_id": "242df01785d940e891e4cac908b4d284",
       "version_major": 2,
       "version_minor": 0
      },
      "text/plain": [
       "VBox(children=(HBox(children=(Text(value='', description='filtre hwd', layout=Layout(width='200px')), Text(val…"
      ]
     },
     "metadata": {},
     "output_type": "display_data"
    }
   ],
   "source": [
    "result"
   ]
  },
  {
   "cell_type": "code",
   "execution_count": 11,
   "metadata": {
    "scrolled": true
   },
   "outputs": [],
   "source": [
    "# pip install moviepy"
   ]
  }
 ],
 "metadata": {
  "kernelspec": {
   "display_name": "Python 3",
   "language": "python",
   "name": "python3"
  },
  "language_info": {
   "codemirror_mode": {
    "name": "ipython",
    "version": 3
   },
   "file_extension": ".py",
   "mimetype": "text/x-python",
   "name": "python",
   "nbconvert_exporter": "python",
   "pygments_lexer": "ipython3",
   "version": "3.7.6"
  }
 },
 "nbformat": 4,
 "nbformat_minor": 4
}
