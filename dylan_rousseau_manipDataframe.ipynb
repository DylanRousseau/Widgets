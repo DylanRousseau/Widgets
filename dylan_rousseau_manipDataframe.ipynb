{
 "cells": [
  {
   "cell_type": "code",
   "execution_count": 45,
   "metadata": {},
   "outputs": [],
   "source": [
    "import pandas as pd\n",
    "\n",
    "# préciser le chemin du fichier à lire\n",
    "df_1 = \"./../data/dictionary/1757_Buchanan-J.csv\" \n",
    "\n",
    "# demander à pandas de lire le fichier et garder ce tableau accessible dans une variable\n",
    "dfDicoBuch = pd.read_csv(df_1, delimiter=\";\", encoding=\"utf8\")\n",
    "\n",
    "# afficher à l'écran un échantillon du tableau\n",
    "dfDicoBuch.sample(n=5)\n",
    "dfDicoBuch=dfDicoBuch.sample(n=1000)"
   ]
  },
  {
   "cell_type": "code",
   "execution_count": 48,
   "metadata": {},
   "outputs": [],
   "source": [
    "# préciser le chemin du fichier à lire\n",
    "df_2 = \"./../data/dictionary/Buchanan_PronChar_counts.csv\" \n",
    "\n",
    "# demander à pandas de lire le fichier et garder ce tableau accessible dans une variable\n",
    "dfDicoBuchPron = pd.read_csv(df_2, delimiter=\";\", encoding=\"utf8\")\n",
    "dfDicoBuchPron=dfDicoBuchPron.sample(n=1000,replace=True)"
   ]
  },
  {
   "cell_type": "code",
   "execution_count": 55,
   "metadata": {},
   "outputs": [],
   "source": [
    "import numpy"
   ]
  },
  {
   "cell_type": "code",
   "execution_count": 56,
   "metadata": {},
   "outputs": [],
   "source": [
    "dfDicoBuchPron = dfDicoBuchPron.replace(numpy.nan,'',regex=True)"
   ]
  },
  {
   "cell_type": "code",
   "execution_count": 57,
   "metadata": {
    "scrolled": true
   },
   "outputs": [],
   "source": [
    "def test(mot, df):\n",
    "    result = \"\"\n",
    "    \n",
    "    for lettre in mot:\n",
    "        dfRowFinded = df[df['char'] == lettre]\n",
    "\n",
    "        if len(dfRowFinded == 1):\n",
    "            result += dfRowFinded.iloc[0]['graph']\n",
    "        else:\n",
    "            result += '?'\n",
    "    return result"
   ]
  },
  {
   "cell_type": "code",
   "execution_count": 58,
   "metadata": {},
   "outputs": [],
   "source": [
    "dfDicoBuch['motVedette'] = dfDicoBuch.apply(lambda x: test(x['pron'], dfDicoBuchPron),1)"
   ]
  },
  {
   "cell_type": "code",
   "execution_count": null,
   "metadata": {},
   "outputs": [],
   "source": []
  }
 ],
 "metadata": {
  "kernelspec": {
   "display_name": "Python 3",
   "language": "python",
   "name": "python3"
  },
  "language_info": {
   "codemirror_mode": {
    "name": "ipython",
    "version": 3
   },
   "file_extension": ".py",
   "mimetype": "text/x-python",
   "name": "python",
   "nbconvert_exporter": "python",
   "pygments_lexer": "ipython3",
   "version": "3.7.6"
  }
 },
 "nbformat": 4,
 "nbformat_minor": 4
}
