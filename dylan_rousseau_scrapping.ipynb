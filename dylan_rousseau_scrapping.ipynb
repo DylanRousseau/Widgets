{
 "cells": [
  {
   "cell_type": "code",
   "execution_count": 1,
   "metadata": {},
   "outputs": [],
   "source": [
    "import requests\n",
    "from bs4 import BeautifulSoup"
   ]
  },
  {
   "cell_type": "code",
   "execution_count": 115,
   "metadata": {},
   "outputs": [],
   "source": [
    "def search_howjsay_mp3(word):\n",
    "    urlTarget = \"https://howjsay.com/how-to-pronounce-\" + word\n",
    "    response  = requests.get(urlTarget)\n",
    "    if response.status_code == 200:\n",
    "        print(\"Good site!\")\n",
    "        soup = BeautifulSoup(response.text,'html.parser')\n",
    "        souplettesBody = soup.find('audio',{\"aria-label\":\"pronounce \"+word})\n",
    "        if souplettesBody is None:\n",
    "            print(\"No trad!\")\n",
    "            link = \"No link!\"\n",
    "        else:\n",
    "            link = souplettesBody.find(\"source\")[\"src\"]\n",
    "    else:\n",
    "        print(\"Bad site!\")\n",
    "    return link"
   ]
  },
  {
   "cell_type": "code",
   "execution_count": 116,
   "metadata": {},
   "outputs": [
    {
     "name": "stdout",
     "output_type": "stream",
     "text": [
      "Good site!\n",
      "No trad!\n"
     ]
    },
    {
     "data": {
      "text/plain": [
       "'No link!'"
      ]
     },
     "execution_count": 116,
     "metadata": {},
     "output_type": "execute_result"
    }
   ],
   "source": [
    "search_howjsay_mp3(\"non\")"
   ]
  },
  {
   "cell_type": "code",
   "execution_count": null,
   "metadata": {},
   "outputs": [],
   "source": [
    "# Récupérer le définition et un autre mot dans la recherche, exemple: love = love to"
   ]
  },
  {
   "cell_type": "code",
   "execution_count": null,
   "metadata": {},
   "outputs": [],
   "source": []
  }
 ],
 "metadata": {
  "kernelspec": {
   "display_name": "Python 3",
   "language": "python",
   "name": "python3"
  },
  "language_info": {
   "codemirror_mode": {
    "name": "ipython",
    "version": 3
   },
   "file_extension": ".py",
   "mimetype": "text/x-python",
   "name": "python",
   "nbconvert_exporter": "python",
   "pygments_lexer": "ipython3",
   "version": "3.7.6"
  }
 },
 "nbformat": 4,
 "nbformat_minor": 4
}
